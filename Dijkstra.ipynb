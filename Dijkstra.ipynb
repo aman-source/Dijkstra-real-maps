{
 "cells": [
  {
   "cell_type": "code",
   "execution_count": null,
   "metadata": {},
   "outputs": [],
   "source": [
    "import osmnx as ox\n",
    "import networkx as nx\n",
    "import heapq"
   ]
  },
  {
   "cell_type": "code",
   "execution_count": null,
   "metadata": {},
   "outputs": [],
   "source": [
    "place_name = \"nellore, India\" "
   ]
  },
  {
   "cell_type": "code",
   "execution_count": null,
   "metadata": {},
   "outputs": [],
   "source": [
    "graph = ox.graph_from_place(place_name, network_type='drive')"
   ]
  },
  {
   "cell_type": "code",
   "execution_count": null,
   "metadata": {},
   "outputs": [],
   "source": [
    "adj_matrix = nx.to_numpy_array(graph, weight='length')\n",
    "V = adj_matrix.shape[0]"
   ]
  },
  {
   "cell_type": "code",
   "execution_count": null,
   "metadata": {},
   "outputs": [],
   "source": [
    "def dijkstra(graph, V, source_index):\n",
    "    value = [float('inf')] * V\n",
    "    parent = [-1] * V\n",
    "    processed = [False] * V\n",
    "\n",
    "    value[source_index] = 0\n",
    "    priority_queue = [(0, source_index)]\n",
    "\n",
    "    while priority_queue:\n",
    "        current_distance, current_node = heapq.heappop(priority_queue)\n",
    "\n",
    "        if processed[current_node]:\n",
    "            continue\n",
    "\n",
    "        processed[current_node] = True\n",
    "\n",
    "        for neighbor, weight in enumerate(adj_matrix[current_node]):\n",
    "            if weight > 0 and not processed[neighbor]:\n",
    "                new_distance = current_distance + weight\n",
    "\n",
    "                if new_distance < value[neighbor]:\n",
    "                    value[neighbor] = new_distance\n",
    "                    parent[neighbor] = current_node\n",
    "                    heapq.heappush(priority_queue, (new_distance, neighbor))\n",
    "\n",
    "    return parent, value\n"
   ]
  },
  {
   "cell_type": "code",
   "execution_count": null,
   "metadata": {},
   "outputs": [],
   "source": [
    "# GIVE YOUR DESIRED CO_ORDINATES\n",
    "source_coords = (14.396820234732408, 79.98401219331771)  \n",
    "destination_coords = (14.465602873499273, 79.89001035729736)\n",
    "\n",
    "source_node = ox.distance.nearest_nodes(graph, source_coords[1], source_coords[0])\n",
    "destination_node = ox.distance.nearest_nodes(graph, destination_coords[1], destination_coords[0])\n",
    "\n",
    "source_index = list(graph.nodes()).index(source_node)\n",
    "destination_index = list(graph.nodes()).index(destination_node)\n",
    "\n",
    "parent, value = dijkstra(adj_matrix, V, source_index)"
   ]
  },
  {
   "cell_type": "code",
   "execution_count": null,
   "metadata": {},
   "outputs": [],
   "source": [
    "shortest_path = []\n",
    "current = destination_index\n",
    "\n",
    "while current != source_index:\n",
    "    shortest_path.append(current)\n",
    "    current = parent[current]\n",
    "\n",
    "shortest_path.append(source_index)\n",
    "shortest_path.reverse() \n",
    "\n",
    "total_distance = sum(adj_matrix[u, v] for u, v in zip(shortest_path[:-1], shortest_path[1:]))\n",
    "print(f\"Shortest path distance: {total_distance:.2f} meters\")\n",
    "\n",
    "shortest_path_node_ids = [list(graph.nodes())[index] for index in shortest_path]\n",
    "\n",
    "fig, ax = ox.plot_graph_route(graph, shortest_path_node_ids, route_color='red', route_linewidth=3)"
   ]
  },
  {
   "cell_type": "code",
   "execution_count": null,
   "metadata": {},
   "outputs": [],
   "source": [
    "import folium.plugins\n",
    "\n",
    "\n",
    "map_center = [(source_coords[0] + destination_coords[0]) / 2, (source_coords[1] + destination_coords[1]) / 2]\n",
    "m = folium.Map(location=map_center, zoom_start=14, tiles='cartodb positron')  \n",
    "\n",
    "# Add the street network to the map\n",
    "for u, v, key, data in graph.edges(data=True, keys=True):\n",
    "    if 'geometry' in data:\n",
    "        coordinates = [(point[1], point[0]) for point in data['geometry'].coords]\n",
    "        folium.PolyLine(coordinates, color='gray', weight=2, opacity=0.5).add_to(m)\n",
    "\n",
    "# Converting the shortest path from node IDs to coordinates\n",
    "shortest_path_coords = [(graph.nodes[node]['y'], graph.nodes[node]['x']) for node in shortest_path_node_ids]\n",
    "\n",
    "# Adding the shortest path to the map\n",
    "folium.plugins.AntPath(shortest_path_coords, color='red', weight=3, opacity=0.7).add_to(m)\n",
    "\n",
    "#markers for the source and destination nodes\n",
    "folium.Marker(source_coords, icon=folium.Icon(color='green', icon='info-sign')).add_to(m)\n",
    "folium.Marker(destination_coords, icon=folium.Icon(color='blue', icon='flag')).add_to(m)\n",
    "\n",
    "\n",
    "#full screen\n",
    "folium.plugins.Fullscreen(\n",
    "    position=\"topright\",\n",
    "    title=\"Expand me\",\n",
    "    title_cancel=\"Exit me\",\n",
    "    force_separate_button=True,\n",
    ").add_to(m)\n",
    "\n",
    "print(f\"Shortest path distance: {total_distance:.2f} meters\")\n",
    "\n",
    "m"
   ]
  },
  {
   "cell_type": "code",
   "execution_count": null,
   "metadata": {},
   "outputs": [],
   "source": []
  }
 ],
 "metadata": {
  "kernelspec": {
   "display_name": "Python 3",
   "language": "python",
   "name": "python3"
  },
  "language_info": {
   "codemirror_mode": {
    "name": "ipython",
    "version": 3
   },
   "file_extension": ".py",
   "mimetype": "text/x-python",
   "name": "python",
   "nbconvert_exporter": "python",
   "pygments_lexer": "ipython3",
   "version": "3.10.5"
  }
 },
 "nbformat": 4,
 "nbformat_minor": 2
}
